{
 "cells": [
  {
   "cell_type": "code",
   "execution_count": 1,
   "metadata": {},
   "outputs": [],
   "source": [
    "import bz2\n",
    "import json\n",
    "import pickle\n",
    "from itertools import islice"
   ]
  },
  {
   "cell_type": "code",
   "execution_count": 2,
   "metadata": {},
   "outputs": [],
   "source": [
    "path = '/home/oscar/jufobtc/times.lst.bz2'\n",
    "line = []\n",
    "dict = {}\n",
    "i = 0\n",
    "dict_state = 1"
   ]
  },
  {
   "cell_type": "code",
   "execution_count": 4,
   "metadata": {},
   "outputs": [],
   "source": [
    "with bz2.BZ2File(path) as file:\n",
    "    for line in islice(file,400000000,None): \n",
    "        if i == 0: print('islice loaded')"
   ]
  },
  {
   "cell_type": "code",
   "execution_count": null,
   "metadata": {},
   "outputs": [],
   "source": [
    "        try: \n",
    "            (tx_hash, time_stamp) = line.split()\n",
    "        except:\n",
    "            #print('not working: ', end='') \n",
    "            #rint(line)\n",
    "            #print(i)\n",
    "            i = i + 1\n",
    "            continue\n",
    "        else:\n",
    "            #print(dict_state, i)\n",
    "            tx_hash = tx_hash.decode().strip()\n",
    "            if i % 10000000 == 0: print(i,[time_stamp])\n",
    "            i = i + 1\n",
    "            \n",
    "            if tx_hash == 'c17d8179d792928bb017d12654cd12c72aca35ca0cb2586c757bfd55c5ffc152': # tx_hash von block 650000\n",
    "                i = 1\n",
    "                dict_state = 1\n",
    "                print('start reached')               \n",
    "            if dict_state == 1:\n",
    "                if i == 10000000: break\n",
    "                #tx_hash = tx_hash.decode().strip()\n",
    "            \n",
    "                #print(tx_hash, time_stamp)\n",
    "                dict[tx_hash] = int(time_stamp)"
   ]
  },
  {
   "cell_type": "code",
   "execution_count": null,
   "metadata": {},
   "outputs": [],
   "source": [
    "with open('/home/oscar/jufobtc/dict_mempool_start_650000_v2.pkl', 'wb') as dict_save:\n",
    "        print('loaded')\n",
    "        print(dict)\n",
    "        pickle.dump(dict, dict_save)\n",
    "        print('dumped')\n",
    "        dict_save.close()"
   ]
  }
 ],
 "metadata": {
  "kernelspec": {
   "display_name": "base",
   "language": "python",
   "name": "python3"
  },
  "language_info": {
   "codemirror_mode": {
    "name": "ipython",
    "version": 3
   },
   "file_extension": ".py",
   "mimetype": "text/x-python",
   "name": "python",
   "nbconvert_exporter": "python",
   "pygments_lexer": "ipython3",
   "version": "3.11.5"
  }
 },
 "nbformat": 4,
 "nbformat_minor": 2
}
