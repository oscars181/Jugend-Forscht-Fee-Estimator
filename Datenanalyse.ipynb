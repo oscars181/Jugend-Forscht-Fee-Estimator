{
 "cells": [
  {
   "cell_type": "markdown",
   "metadata": {},
   "source": [
    "# Jugend Forscht \n",
    "## Datenanalyse selbst gesammelter Daten 10.02.2024"
   ]
  },
  {
   "cell_type": "markdown",
   "metadata": {},
   "source": [
    "Zunächst laden wir die Dependencies..."
   ]
  },
  {
   "cell_type": "code",
   "execution_count": 1,
   "metadata": {},
   "outputs": [],
   "source": [
    "import subprocess\n",
    "import time\n",
    "import json\n",
    "import matplotlib.pyplot as plt \n",
    "import csv \n",
    "import pandas as pd\n",
    "from datetime import datetime\n",
    "import numpy as np\n",
    "import seaborn as sns  \n",
    "import pickle\n",
    "from itertools import islice\n",
    "from scipy.cluster.vq import kmeans\n",
    "from scipy.cluster.vq import vq"
   ]
  },
  {
   "cell_type": "code",
   "execution_count": 4,
   "metadata": {},
   "outputs": [],
   "source": [
    "# DIR-PATHS\n",
    "avg_fee_block_path = '/home/oscar/jufobtc/data/fees_750.csv'\n",
    "mempool_tx_path = '/home/oscar/jufobtc/data/mem_tx.csv'\n",
    "fee_comp_path = '/home/oscar/jufobtc/data/fee_estimator_comp.csv'\n",
    "tx_times_path = '/home/oscar/jufobtc/data/tx_times.csv'"
   ]
  },
  {
   "cell_type": "markdown",
   "metadata": {},
   "source": [
    "... und die Daten."
   ]
  },
  {
   "cell_type": "code",
   "execution_count": 6,
   "metadata": {},
   "outputs": [
    {
     "ename": "FileNotFoundError",
     "evalue": "[Errno 2] No such file or directory: '/home/oscar/jufobtc/data/fees_750.csv'",
     "output_type": "error",
     "traceback": [
      "\u001b[0;31m---------------------------------------------------------------------------\u001b[0m",
      "\u001b[0;31mFileNotFoundError\u001b[0m                         Traceback (most recent call last)",
      "Cell \u001b[0;32mIn[6], line 3\u001b[0m\n\u001b[1;32m      1\u001b[0m \u001b[38;5;66;03m# LOAD DATA\u001b[39;00m\n\u001b[0;32m----> 3\u001b[0m avg_fee_block \u001b[38;5;241m=\u001b[39m \u001b[38;5;28;43mopen\u001b[39;49m\u001b[43m(\u001b[49m\u001b[43mavg_fee_block_path\u001b[49m\u001b[43m,\u001b[49m\u001b[43m \u001b[49m\u001b[38;5;124;43m'\u001b[39;49m\u001b[38;5;124;43mr\u001b[39;49m\u001b[38;5;124;43m'\u001b[39;49m\u001b[43m)\u001b[49m\n\u001b[1;32m      4\u001b[0m col \u001b[38;5;241m=\u001b[39m [\u001b[38;5;124m'\u001b[39m\u001b[38;5;124mtimestamp\u001b[39m\u001b[38;5;124m'\u001b[39m, \u001b[38;5;124m'\u001b[39m\u001b[38;5;124mblockheight\u001b[39m\u001b[38;5;124m'\u001b[39m, \u001b[38;5;124m'\u001b[39m\u001b[38;5;124mavg_fee\u001b[39m\u001b[38;5;124m'\u001b[39m]\n\u001b[1;32m      5\u001b[0m df_avg_fee \u001b[38;5;241m=\u001b[39m pd\u001b[38;5;241m.\u001b[39mread_csv(avg_fee_block, delimiter\u001b[38;5;241m=\u001b[39m\u001b[38;5;124m'\u001b[39m\u001b[38;5;124m \u001b[39m\u001b[38;5;124m'\u001b[39m, names\u001b[38;5;241m=\u001b[39mcol)\n",
      "File \u001b[0;32m~/.local/lib/python3.10/site-packages/IPython/core/interactiveshell.py:310\u001b[0m, in \u001b[0;36m_modified_open\u001b[0;34m(file, *args, **kwargs)\u001b[0m\n\u001b[1;32m    303\u001b[0m \u001b[38;5;28;01mif\u001b[39;00m file \u001b[38;5;129;01min\u001b[39;00m {\u001b[38;5;241m0\u001b[39m, \u001b[38;5;241m1\u001b[39m, \u001b[38;5;241m2\u001b[39m}:\n\u001b[1;32m    304\u001b[0m     \u001b[38;5;28;01mraise\u001b[39;00m \u001b[38;5;167;01mValueError\u001b[39;00m(\n\u001b[1;32m    305\u001b[0m         \u001b[38;5;124mf\u001b[39m\u001b[38;5;124m\"\u001b[39m\u001b[38;5;124mIPython won\u001b[39m\u001b[38;5;124m'\u001b[39m\u001b[38;5;124mt let you open fd=\u001b[39m\u001b[38;5;132;01m{\u001b[39;00mfile\u001b[38;5;132;01m}\u001b[39;00m\u001b[38;5;124m by default \u001b[39m\u001b[38;5;124m\"\u001b[39m\n\u001b[1;32m    306\u001b[0m         \u001b[38;5;124m\"\u001b[39m\u001b[38;5;124mas it is likely to crash IPython. If you know what you are doing, \u001b[39m\u001b[38;5;124m\"\u001b[39m\n\u001b[1;32m    307\u001b[0m         \u001b[38;5;124m\"\u001b[39m\u001b[38;5;124myou can use builtins\u001b[39m\u001b[38;5;124m'\u001b[39m\u001b[38;5;124m open.\u001b[39m\u001b[38;5;124m\"\u001b[39m\n\u001b[1;32m    308\u001b[0m     )\n\u001b[0;32m--> 310\u001b[0m \u001b[38;5;28;01mreturn\u001b[39;00m \u001b[43mio_open\u001b[49m\u001b[43m(\u001b[49m\u001b[43mfile\u001b[49m\u001b[43m,\u001b[49m\u001b[43m \u001b[49m\u001b[38;5;241;43m*\u001b[39;49m\u001b[43margs\u001b[49m\u001b[43m,\u001b[49m\u001b[43m \u001b[49m\u001b[38;5;241;43m*\u001b[39;49m\u001b[38;5;241;43m*\u001b[39;49m\u001b[43mkwargs\u001b[49m\u001b[43m)\u001b[49m\n",
      "\u001b[0;31mFileNotFoundError\u001b[0m: [Errno 2] No such file or directory: '/home/oscar/jufobtc/data/fees_750.csv'"
     ]
    }
   ],
   "source": [
    "# LOAD DATA\n",
    "\n",
    "avg_fee_block = open(avg_fee_block_path, 'r')\n",
    "col = ['timestamp', 'blockheight', 'avg_fee']\n",
    "df_avg_fee = pd.read_csv(avg_fee_block, delimiter=' ', names=col)\n",
    "\n",
    "\n",
    "\n",
    "mempool_tx = open(mempool_tx_path, 'r')\n",
    "col = ['txhash', 'timestamp']\n",
    "df_mempool_tx = pd.read_csv(mempool_tx, delimiter=' ', names=col)\n",
    "\n",
    "\n",
    "fee_comp = open(fee_comp_path, 'r')\n",
    "col = ['blockheight', 'mem.space_est', 'bitcoincore_est', 'wtfee_est', 'timestamp'] # blockheight steht für den block, für den die Prognose ist\n",
    "df_fee_comp = pd.read_csv(fee_comp, delimiter=' ', names=col)\n",
    "\n",
    "tx_times = open(tx_times_path, 'r')\n",
    "col = ['txhash', 'difftime', 'blockheight']\n",
    "df_tx_times = pd.read_csv(tx_times, names=col, delimiter=' ')\n",
    "\n"
   ]
  },
  {
   "cell_type": "markdown",
   "metadata": {},
   "source": [
    "### Zusammenführung der Daten\n",
    "Nun mergen wir die Datensätze A Vergleich der Gebührenvorhersage und B der durchschnittlichen Gebühren. Außerdem droppen wir alle Einträge bis auf den letzten vor der Bestätigung des nächsten Blockes. Demnach haben wir immer die aktuellste Vorhersage."
   ]
  },
  {
   "cell_type": "code",
   "execution_count": null,
   "metadata": {},
   "outputs": [],
   "source": [
    "#MERGE DATA\n",
    "df_fee_comp = pd.merge(df_fee_comp, df_avg_fee, on='blockheight')\n",
    "df_fee_comp = df_fee_comp.drop_duplicates(\"blockheight\", keep='last')\n",
    "#print(df_fee_comp)"
   ]
  },
  {
   "cell_type": "markdown",
   "metadata": {},
   "source": [
    "### Berechnungen Gebührenvorhersagen\n",
    "Für eine bessere Vergleichbarkeit der Schätzungen berechnen wir noch einige Differenzen:\n",
    "- Gebührenänderung  \n",
    "- Änderung der Gebührenprognose  \n",
    "- Blockerstellungszeiten\n",
    "\n",
    "TODO: Differenzen zwischen den einzelnen Schätzern berechnen. "
   ]
  },
  {
   "cell_type": "code",
   "execution_count": null,
   "metadata": {},
   "outputs": [],
   "source": [
    "# CALCs\n",
    "df_fee_comp[\"change_avg_fee\"] = df_fee_comp[\"avg_fee\"].diff()\n",
    "df_fee_comp[\"change_fee_est_bitcoincore\"] = df_fee_comp['bitcoincore_est'].diff()\n",
    "df_fee_comp[\"change_fee_est_mem.space\"] = df_fee_comp['mem.space_est'].diff()\n",
    "df_fee_comp[\"change_fee_est_wtfee\"] = df_fee_comp['wtfee_est'].diff()\n",
    "df_fee_comp[\"blocktime\"] = df_fee_comp[\"timestamp_y\"].diff()\n",
    "\n",
    "df_avg_fee[\"blocktime\"] = df_avg_fee[\"timestamp\"].diff()\n",
    "\n",
    "#print(df_fee_comp.loc[df_fee_comp[\"change_avg_fee\"] & df_fee_comp[\"change_avg_fee\"] ])\n",
    "\n",
    "print(df_fee_comp.head(2))"
   ]
  },
  {
   "cell_type": "markdown",
   "metadata": {},
   "source": [
    "### Bereinigung des Datensatzes für Transaktionsbestätigungszeiten\n",
    "\n",
    "1. Tx mit einer Zeit von kleiner als 0 auf 0 setzen -> bedeutet direkte Bestätigung in Block (potenzielle Ursache könnte die ungenaue Zeit im Blocktimestamp sein)\n",
    "2. Abziehung der Blockerstellungszeiten von tx zeiten\n",
    "   1. Merge mit Datensatz mit Gebühren und Blocktimestamps\n",
    "   2. => Verminderung des Einflusses der Varianz der Blockerstellungszeiten\n"
   ]
  },
  {
   "cell_type": "code",
   "execution_count": null,
   "metadata": {},
   "outputs": [],
   "source": [
    "# CALCs 2\n",
    "df_tx_times[\"difftime\"].loc[df_tx_times[\"difftime\"]<0] = 0\n",
    "df_tx_times = df_tx_times.dropna()\n",
    "df_tx_times = pd.merge(df_tx_times, df_avg_fee, on=\"blockheight\")\n",
    "\n",
    "df_tx_times[\"cl_difftime\"] = df_tx_times[\"difftime\"] - df_tx_times[\"blocktime\"]"
   ]
  },
  {
   "cell_type": "markdown",
   "metadata": {},
   "source": [
    "### Berechnung der Mediane für Zeiten der Blöcke\n",
    "Vorteile:\n",
    "- Bessere Vergleichbarkeit   \n",
    "- Vereinfachte Messungen  \n",
    "\n",
    "Nachteile:\n",
    "- Beispielsweise CPFP ist nicht berücksichtigt  "
   ]
  },
  {
   "cell_type": "code",
   "execution_count": null,
   "metadata": {},
   "outputs": [],
   "source": [
    "temp = pd.DataFrame(columns=[ \"median_difftime\"])\n",
    "temp[\"median_difftime\"] =  df_tx_times.groupby(['blockheight'])[\"cl_difftime\"].median()\n",
    "temp[\"blockheight\"] = temp.index\n",
    "temp.index.names = [\"index\"]\n",
    "df_avg_fee = pd.merge(df_avg_fee, temp, on='blockheight')\n",
    "#print(df_avg_fee)\n",
    "                                                                                    "
   ]
  },
  {
   "cell_type": "markdown",
   "metadata": {},
   "source": [
    "### Zusammenführung aller Datensätze "
   ]
  },
  {
   "cell_type": "code",
   "execution_count": null,
   "metadata": {},
   "outputs": [],
   "source": [
    "data = pd.merge(df_avg_fee, df_fee_comp, on=\"blockheight\")\n",
    "\n",
    "data = data.drop(columns=[\"timestamp_x\",\"avg_fee_y\",\"blocktime_y\"])\n",
    "\n",
    "data = data.rename(columns={'blocktime_x': 'blocktime', 'timestamp_y': 'timestamp', 'avg_fee_x': 'avg_fee'})\n",
    "\n",
    "print(data)"
   ]
  },
  {
   "cell_type": "code",
   "execution_count": null,
   "metadata": {},
   "outputs": [],
   "source": [
    "# OVERVIEW DATA\n",
    "plt.figure(figsize=(13,6))\n",
    "plt.plot(df_fee_comp[\"blockheight\"],df_fee_comp['mem.space_est'], label='Mempool.Space')\n",
    "plt.plot(df_fee_comp[\"blockheight\"],df_fee_comp['bitcoincore_est'], label='Bitcoin Core')\n",
    "plt.plot(df_fee_comp[\"blockheight\"],df_fee_comp['wtfee_est'], label=\"What the Feee\")\n",
    "plt.plot(df_fee_comp[\"blockheight\"],df_fee_comp[\"avg_fee\"], label='actual fee average')\n",
    "plt.legend(loc='upper left')\n",
    "plt.ticklabel_format(useOffset=False)"
   ]
  },
  {
   "cell_type": "code",
   "execution_count": null,
   "metadata": {},
   "outputs": [
    {
     "data": {
      "text/plain": [
       "<matplotlib.legend.Legend at 0x7f14a741b110>"
      ]
     },
     "execution_count": 20,
     "metadata": {},
     "output_type": "execute_result"
    },
    {
     "data": {
      "image/png": "[encoded data removed]",
      "text/plain": [
       "<Figure size 1000x600 with 1 Axes>"
      ]
     },
     "metadata": {},
     "output_type": "display_data"
    }
   ],
   "source": [
    "plt.figure(figsize=(10,6))\n",
    "\n",
    "plt.hist(data[\"median_difftime\"].loc[data[\"change_avg_fee\"]<0], cumulative=True, density=True, bins=10000, label='fallend', histtype='step')\n",
    "plt.hist(data[\"median_difftime\"].loc[data[\"change_avg_fee\"]>0], cumulative=True, density=True, bins=10000, label='steigend', histtype='step')\n",
    "\n",
    "plt.xlim(-600, 600)\n",
    "\n",
    "\n",
    "plt.xlabel()\n",
    "plt.legend()"
   ]
  }
 ],
 "metadata": {
  "kernelspec": {
   "display_name": "base",
   "language": "python",
   "name": "python3"
  },
  "language_info": {
   "codemirror_mode": {
    "name": "ipython",
    "version": 3
   },
   "file_extension": ".py",
   "mimetype": "text/x-python",
   "name": "python",
   "nbconvert_exporter": "python",
   "pygments_lexer": "ipython3",
   "version": "3.10.13"
  }
 },
 "nbformat": 4,
 "nbformat_minor": 2
}
